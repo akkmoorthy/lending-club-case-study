{
 "cells": [
  {
   "cell_type": "markdown",
   "id": "349ce085",
   "metadata": {},
   "source": [
    "Problem Statement:\n",
    "In a typical financial based company, there will be various types of loans given to customers. However when the company receives a loan application, the company has to decide if loan can be given based on applicant's profile.\n",
    "If we reject the loan and if the applicant is likely to repay the loan, then there will be loss of business to the company. If the loan is approved and in case the loan is not repaid then it will be a loss for the company.\n",
    "\n",
    "We need to understand the driving factors (or driver variables) behind loan default, i.e. the variables which are strong indicators of default which will help the company use this and assess the risk"
   ]
  },
  {
   "cell_type": "code",
   "execution_count": 1,
   "id": "aee3a25c",
   "metadata": {},
   "outputs": [],
   "source": [
    "# Import all the libraries up front\n",
    "import numpy as np\n",
    "import pandas as pd\n",
    "import matplotlib.pyplot as plt\n",
    "import seaborn as sns\n",
    "\n",
    "# Ignore warnings due to version problems\n",
    "import warnings\n",
    "warnings.filterwarnings('ignore')"
   ]
  },
  {
   "cell_type": "code",
   "execution_count": 6,
   "id": "7665f70e",
   "metadata": {},
   "outputs": [],
   "source": [
    "# Read all the rows and columns from the csv file\n",
    "loan_info = pd.read_csv(\"loan.csv\")"
   ]
  },
  {
   "cell_type": "code",
   "execution_count": 7,
   "id": "66ce92a4",
   "metadata": {},
   "outputs": [
    {
     "data": {
      "text/html": [
       "<div>\n",
       "<style scoped>\n",
       "    .dataframe tbody tr th:only-of-type {\n",
       "        vertical-align: middle;\n",
       "    }\n",
       "\n",
       "    .dataframe tbody tr th {\n",
       "        vertical-align: top;\n",
       "    }\n",
       "\n",
       "    .dataframe thead th {\n",
       "        text-align: right;\n",
       "    }\n",
       "</style>\n",
       "<table border=\"1\" class=\"dataframe\">\n",
       "  <thead>\n",
       "    <tr style=\"text-align: right;\">\n",
       "      <th></th>\n",
       "      <th>id</th>\n",
       "      <th>member_id</th>\n",
       "      <th>loan_amnt</th>\n",
       "      <th>funded_amnt</th>\n",
       "      <th>funded_amnt_inv</th>\n",
       "      <th>term</th>\n",
       "      <th>int_rate</th>\n",
       "      <th>installment</th>\n",
       "      <th>grade</th>\n",
       "      <th>sub_grade</th>\n",
       "      <th>...</th>\n",
       "      <th>num_tl_90g_dpd_24m</th>\n",
       "      <th>num_tl_op_past_12m</th>\n",
       "      <th>pct_tl_nvr_dlq</th>\n",
       "      <th>percent_bc_gt_75</th>\n",
       "      <th>pub_rec_bankruptcies</th>\n",
       "      <th>tax_liens</th>\n",
       "      <th>tot_hi_cred_lim</th>\n",
       "      <th>total_bal_ex_mort</th>\n",
       "      <th>total_bc_limit</th>\n",
       "      <th>total_il_high_credit_limit</th>\n",
       "    </tr>\n",
       "  </thead>\n",
       "  <tbody>\n",
       "    <tr>\n",
       "      <th>0</th>\n",
       "      <td>1077501</td>\n",
       "      <td>1296599</td>\n",
       "      <td>5000</td>\n",
       "      <td>5000</td>\n",
       "      <td>4975.0</td>\n",
       "      <td>36 months</td>\n",
       "      <td>10.65%</td>\n",
       "      <td>162.87</td>\n",
       "      <td>B</td>\n",
       "      <td>B2</td>\n",
       "      <td>...</td>\n",
       "      <td>NaN</td>\n",
       "      <td>NaN</td>\n",
       "      <td>NaN</td>\n",
       "      <td>NaN</td>\n",
       "      <td>0.0</td>\n",
       "      <td>0.0</td>\n",
       "      <td>NaN</td>\n",
       "      <td>NaN</td>\n",
       "      <td>NaN</td>\n",
       "      <td>NaN</td>\n",
       "    </tr>\n",
       "    <tr>\n",
       "      <th>1</th>\n",
       "      <td>1077430</td>\n",
       "      <td>1314167</td>\n",
       "      <td>2500</td>\n",
       "      <td>2500</td>\n",
       "      <td>2500.0</td>\n",
       "      <td>60 months</td>\n",
       "      <td>15.27%</td>\n",
       "      <td>59.83</td>\n",
       "      <td>C</td>\n",
       "      <td>C4</td>\n",
       "      <td>...</td>\n",
       "      <td>NaN</td>\n",
       "      <td>NaN</td>\n",
       "      <td>NaN</td>\n",
       "      <td>NaN</td>\n",
       "      <td>0.0</td>\n",
       "      <td>0.0</td>\n",
       "      <td>NaN</td>\n",
       "      <td>NaN</td>\n",
       "      <td>NaN</td>\n",
       "      <td>NaN</td>\n",
       "    </tr>\n",
       "    <tr>\n",
       "      <th>2</th>\n",
       "      <td>1077175</td>\n",
       "      <td>1313524</td>\n",
       "      <td>2400</td>\n",
       "      <td>2400</td>\n",
       "      <td>2400.0</td>\n",
       "      <td>36 months</td>\n",
       "      <td>15.96%</td>\n",
       "      <td>84.33</td>\n",
       "      <td>C</td>\n",
       "      <td>C5</td>\n",
       "      <td>...</td>\n",
       "      <td>NaN</td>\n",
       "      <td>NaN</td>\n",
       "      <td>NaN</td>\n",
       "      <td>NaN</td>\n",
       "      <td>0.0</td>\n",
       "      <td>0.0</td>\n",
       "      <td>NaN</td>\n",
       "      <td>NaN</td>\n",
       "      <td>NaN</td>\n",
       "      <td>NaN</td>\n",
       "    </tr>\n",
       "    <tr>\n",
       "      <th>3</th>\n",
       "      <td>1076863</td>\n",
       "      <td>1277178</td>\n",
       "      <td>10000</td>\n",
       "      <td>10000</td>\n",
       "      <td>10000.0</td>\n",
       "      <td>36 months</td>\n",
       "      <td>13.49%</td>\n",
       "      <td>339.31</td>\n",
       "      <td>C</td>\n",
       "      <td>C1</td>\n",
       "      <td>...</td>\n",
       "      <td>NaN</td>\n",
       "      <td>NaN</td>\n",
       "      <td>NaN</td>\n",
       "      <td>NaN</td>\n",
       "      <td>0.0</td>\n",
       "      <td>0.0</td>\n",
       "      <td>NaN</td>\n",
       "      <td>NaN</td>\n",
       "      <td>NaN</td>\n",
       "      <td>NaN</td>\n",
       "    </tr>\n",
       "    <tr>\n",
       "      <th>4</th>\n",
       "      <td>1075358</td>\n",
       "      <td>1311748</td>\n",
       "      <td>3000</td>\n",
       "      <td>3000</td>\n",
       "      <td>3000.0</td>\n",
       "      <td>60 months</td>\n",
       "      <td>12.69%</td>\n",
       "      <td>67.79</td>\n",
       "      <td>B</td>\n",
       "      <td>B5</td>\n",
       "      <td>...</td>\n",
       "      <td>NaN</td>\n",
       "      <td>NaN</td>\n",
       "      <td>NaN</td>\n",
       "      <td>NaN</td>\n",
       "      <td>0.0</td>\n",
       "      <td>0.0</td>\n",
       "      <td>NaN</td>\n",
       "      <td>NaN</td>\n",
       "      <td>NaN</td>\n",
       "      <td>NaN</td>\n",
       "    </tr>\n",
       "  </tbody>\n",
       "</table>\n",
       "<p>5 rows × 111 columns</p>\n",
       "</div>"
      ],
      "text/plain": [
       "        id  member_id  loan_amnt  funded_amnt  funded_amnt_inv        term  \\\n",
       "0  1077501    1296599       5000         5000           4975.0   36 months   \n",
       "1  1077430    1314167       2500         2500           2500.0   60 months   \n",
       "2  1077175    1313524       2400         2400           2400.0   36 months   \n",
       "3  1076863    1277178      10000        10000          10000.0   36 months   \n",
       "4  1075358    1311748       3000         3000           3000.0   60 months   \n",
       "\n",
       "  int_rate  installment grade sub_grade  ... num_tl_90g_dpd_24m  \\\n",
       "0   10.65%       162.87     B        B2  ...                NaN   \n",
       "1   15.27%        59.83     C        C4  ...                NaN   \n",
       "2   15.96%        84.33     C        C5  ...                NaN   \n",
       "3   13.49%       339.31     C        C1  ...                NaN   \n",
       "4   12.69%        67.79     B        B5  ...                NaN   \n",
       "\n",
       "  num_tl_op_past_12m pct_tl_nvr_dlq  percent_bc_gt_75 pub_rec_bankruptcies  \\\n",
       "0                NaN            NaN               NaN                  0.0   \n",
       "1                NaN            NaN               NaN                  0.0   \n",
       "2                NaN            NaN               NaN                  0.0   \n",
       "3                NaN            NaN               NaN                  0.0   \n",
       "4                NaN            NaN               NaN                  0.0   \n",
       "\n",
       "  tax_liens tot_hi_cred_lim total_bal_ex_mort total_bc_limit  \\\n",
       "0       0.0             NaN               NaN            NaN   \n",
       "1       0.0             NaN               NaN            NaN   \n",
       "2       0.0             NaN               NaN            NaN   \n",
       "3       0.0             NaN               NaN            NaN   \n",
       "4       0.0             NaN               NaN            NaN   \n",
       "\n",
       "  total_il_high_credit_limit  \n",
       "0                        NaN  \n",
       "1                        NaN  \n",
       "2                        NaN  \n",
       "3                        NaN  \n",
       "4                        NaN  \n",
       "\n",
       "[5 rows x 111 columns]"
      ]
     },
     "execution_count": 7,
     "metadata": {},
     "output_type": "execute_result"
    }
   ],
   "source": [
    "# Print first 5 rows from the csv data. This ensures there is no issue reading the csv file\n",
    "loan_info.head()"
   ]
  },
  {
   "cell_type": "code",
   "execution_count": 8,
   "id": "05230d54",
   "metadata": {},
   "outputs": [
    {
     "name": "stdout",
     "output_type": "stream",
     "text": [
      "<class 'pandas.core.frame.DataFrame'>\n",
      "RangeIndex: 39717 entries, 0 to 39716\n",
      "Columns: 111 entries, id to total_il_high_credit_limit\n",
      "dtypes: float64(74), int64(13), object(24)\n",
      "memory usage: 33.6+ MB\n"
     ]
    }
   ],
   "source": [
    "# Check total number of rows and columns availalbe\n",
    "loan_info.info()"
   ]
  },
  {
   "cell_type": "code",
   "execution_count": 10,
   "id": "0138b388",
   "metadata": {},
   "outputs": [
    {
     "data": {
      "text/plain": [
       "id                              int64\n",
       "member_id                       int64\n",
       "loan_amnt                       int64\n",
       "funded_amnt                     int64\n",
       "funded_amnt_inv               float64\n",
       "                               ...   \n",
       "tax_liens                     float64\n",
       "tot_hi_cred_lim               float64\n",
       "total_bal_ex_mort             float64\n",
       "total_bc_limit                float64\n",
       "total_il_high_credit_limit    float64\n",
       "Length: 111, dtype: object"
      ]
     },
     "execution_count": 10,
     "metadata": {},
     "output_type": "execute_result"
    }
   ],
   "source": [
    "# Check datatypes for each column which will help to understand if there is anything which is required for casting or conversion\n",
    "loan_info.dtypes"
   ]
  },
  {
   "cell_type": "markdown",
   "id": "d5864d15",
   "metadata": {},
   "source": [
    "Data Cleanig\n",
    "First we will need to clean the data before we proceed with further analysis\n",
    "Below are the steps which we will do for the cleanup:\n",
    "1. If there are any duplicate rows\n",
    "2. If there are too many null values\n",
    "   i. If all the row values has null or NA then we will remove the entire row\n",
    "   ii. If all the values in a column has null or NA then we will remove the entire row\n",
    "3. If there are some values which is of null and if the subset of data is small then we will remove it\n",
    "4. Analyze all the columns and remove those which is not needed for the analysis"
   ]
  },
  {
   "cell_type": "code",
   "execution_count": 11,
   "id": "37abdca6",
   "metadata": {},
   "outputs": [
    {
     "name": "stdout",
     "output_type": "stream",
     "text": [
      "Empty DataFrame\n",
      "Columns: [id, member_id, loan_amnt, funded_amnt, funded_amnt_inv, term, int_rate, installment, grade, sub_grade, emp_title, emp_length, home_ownership, annual_inc, verification_status, issue_d, loan_status, pymnt_plan, url, desc, purpose, title, zip_code, addr_state, dti, delinq_2yrs, earliest_cr_line, inq_last_6mths, mths_since_last_delinq, mths_since_last_record, open_acc, pub_rec, revol_bal, revol_util, total_acc, initial_list_status, out_prncp, out_prncp_inv, total_pymnt, total_pymnt_inv, total_rec_prncp, total_rec_int, total_rec_late_fee, recoveries, collection_recovery_fee, last_pymnt_d, last_pymnt_amnt, next_pymnt_d, last_credit_pull_d, collections_12_mths_ex_med, mths_since_last_major_derog, policy_code, application_type, annual_inc_joint, dti_joint, verification_status_joint, acc_now_delinq, tot_coll_amt, tot_cur_bal, open_acc_6m, open_il_6m, open_il_12m, open_il_24m, mths_since_rcnt_il, total_bal_il, il_util, open_rv_12m, open_rv_24m, max_bal_bc, all_util, total_rev_hi_lim, inq_fi, total_cu_tl, inq_last_12m, acc_open_past_24mths, avg_cur_bal, bc_open_to_buy, bc_util, chargeoff_within_12_mths, delinq_amnt, mo_sin_old_il_acct, mo_sin_old_rev_tl_op, mo_sin_rcnt_rev_tl_op, mo_sin_rcnt_tl, mort_acc, mths_since_recent_bc, mths_since_recent_bc_dlq, mths_since_recent_inq, mths_since_recent_revol_delinq, num_accts_ever_120_pd, num_actv_bc_tl, num_actv_rev_tl, num_bc_sats, num_bc_tl, num_il_tl, num_op_rev_tl, num_rev_accts, num_rev_tl_bal_gt_0, num_sats, num_tl_120dpd_2m, ...]\n",
      "Index: []\n",
      "\n",
      "[0 rows x 111 columns]\n"
     ]
    }
   ],
   "source": [
    "# There could be more than 1 loan taken by 1 member hence removing duplicates by member_id is not idle. \n",
    "# We will check for duplicate data by id to see if there is anything repeated by mistake\n",
    "print(loan_info[loan_info.duplicated(['id'])])\n",
    "\n",
    "# Since there are no duplicates we will not do any further action"
   ]
  },
  {
   "cell_type": "code",
   "execution_count": 12,
   "id": "cd4e99c6",
   "metadata": {},
   "outputs": [
    {
     "data": {
      "text/plain": [
       "id                                0\n",
       "member_id                         0\n",
       "loan_amnt                         0\n",
       "funded_amnt                       0\n",
       "funded_amnt_inv                   0\n",
       "                              ...  \n",
       "tax_liens                        39\n",
       "tot_hi_cred_lim               39717\n",
       "total_bal_ex_mort             39717\n",
       "total_bc_limit                39717\n",
       "total_il_high_credit_limit    39717\n",
       "Length: 111, dtype: int64"
      ]
     },
     "execution_count": 12,
     "metadata": {},
     "output_type": "execute_result"
    }
   ],
   "source": [
    "# Check for null or NA values in the entire data\n",
    "loan_info.isnull().sum()"
   ]
  },
  {
   "cell_type": "code",
   "execution_count": 13,
   "id": "5c82f7fb",
   "metadata": {},
   "outputs": [
    {
     "name": "stdout",
     "output_type": "stream",
     "text": [
      "0\n"
     ]
    }
   ],
   "source": [
    "# Check if each values in the row has null or NA\n",
    "print(loan_info.isnull().all(axis=1).sum())\n",
    "\n",
    "# Since there are no null or NA then we will not take any other action"
   ]
  },
  {
   "cell_type": "code",
   "execution_count": 14,
   "id": "657d8117",
   "metadata": {},
   "outputs": [
    {
     "name": "stdout",
     "output_type": "stream",
     "text": [
      "54\n"
     ]
    }
   ],
   "source": [
    "# Check if all the data has null or NA values based on each columns\n",
    "print(loan_info.isnull().all(axis=0).sum())"
   ]
  },
  {
   "cell_type": "code",
   "execution_count": 15,
   "id": "4ec4d161",
   "metadata": {},
   "outputs": [],
   "source": [
    "# Since there are many columns which doesn't have proper values, remove those columns\n",
    "loan_info.dropna(axis = 1, how = 'all', inplace = True)"
   ]
  },
  {
   "cell_type": "code",
   "execution_count": 16,
   "id": "cb975781",
   "metadata": {},
   "outputs": [
    {
     "data": {
      "text/plain": [
       "(39717, 57)"
      ]
     },
     "execution_count": 16,
     "metadata": {},
     "output_type": "execute_result"
    }
   ],
   "source": [
    "# Now check how many columns are available after removing some columns\n",
    "loan_info.shape"
   ]
  },
  {
   "cell_type": "code",
   "execution_count": 17,
   "id": "9db0813c",
   "metadata": {},
   "outputs": [],
   "source": [
    "# Based on the analysis, we feel the below columns are not required to find out if the customers can default the loan.\n",
    "# Hence removing the columns\n",
    "loan_info.drop(['pymnt_plan', \"initial_list_status\",'collections_12_mths_ex_med','policy_code','acc_now_delinq', 'application_type', 'pub_rec_bankruptcies', 'tax_liens', 'delinq_amnt'], axis = 1, inplace = True)"
   ]
  },
  {
   "cell_type": "code",
   "execution_count": 18,
   "id": "adcabf3c",
   "metadata": {},
   "outputs": [
    {
     "data": {
      "text/plain": [
       "(39717, 48)"
      ]
     },
     "execution_count": 18,
     "metadata": {},
     "output_type": "execute_result"
    }
   ],
   "source": [
    "# Now check how many columns are available after removing some columns\n",
    "loan_info.shape"
   ]
  },
  {
   "cell_type": "markdown",
   "id": "16652479",
   "metadata": {},
   "source": [
    "Univariate Analysis:\n",
    "We will pick the columns which needs an analysis to be done based on category:\n",
    "Unordered Categorical Variables\n",
    "1. emp_length - This is to analyze on the employees length\n",
    "2. int_rate - Is there an higher interest rate hence the defaulting of loan\n",
    "3. revol_util - Revolving line utilization rate, or the amount of credit the borrower is using relative to all available revolving credit\n",
    "4. total_pymnt - Total Amount which is repaid as part of the loan\n",
    "5. loan_amnt - Total Amount of the loan taken\n",
    "Ordered Categorical Variables\n",
    "1. loan_status - Status of the loan\n",
    "2. purpose - What purpose was the loan taken\n",
    "3. grade - Loan Grade\n",
    "4. sub_grade - Loan Subgrade"
   ]
  },
  {
   "cell_type": "code",
   "execution_count": 19,
   "id": "428d4cd0",
   "metadata": {},
   "outputs": [
    {
     "name": "stdout",
     "output_type": "stream",
     "text": [
      "Mode : 10+ years\n"
     ]
    },
    {
     "data": {
      "text/plain": [
       "10+ years    8879\n",
       "< 1 year     4583\n",
       "2 years      4388\n",
       "3 years      4095\n",
       "4 years      3436\n",
       "5 years      3282\n",
       "1 year       3240\n",
       "6 years      2229\n",
       "7 years      1773\n",
       "8 years      1479\n",
       "9 years      1258\n",
       "Name: emp_length, dtype: int64"
      ]
     },
     "execution_count": 19,
     "metadata": {},
     "output_type": "execute_result"
    }
   ],
   "source": [
    "# Check the mode of emp_length which will help us see if we need to use that value to fill the missing values.\n",
    "# This is to analyze if the defaulted ones are of lesser experiences or most experienced ones.\n",
    "print(\"Mode : \" + loan_info.emp_length.mode()[0])\n",
    "loan_info.emp_length.value_counts()\n",
    "\n",
    "# The above value count shows that the mode value has too far higher frequency than that of the next immediate frequent value. \n",
    "# We will assume that the loan taken is recent ones and hence the data is yet to be updated.\n",
    "# Based on that, and also the missing values are in very low percentage, so imputung with mode value doesnt affect data much"
   ]
  },
  {
   "cell_type": "code",
   "execution_count": 20,
   "id": "616d87a6",
   "metadata": {},
   "outputs": [
    {
     "data": {
      "text/plain": [
       "1075"
      ]
     },
     "execution_count": 20,
     "metadata": {},
     "output_type": "execute_result"
    }
   ],
   "source": [
    "# Find the missing values of emp_length\n",
    "loan_info.emp_length.isna().sum()"
   ]
  },
  {
   "cell_type": "code",
   "execution_count": 21,
   "id": "fa7dee2c",
   "metadata": {},
   "outputs": [],
   "source": [
    "# Find the missing values of emp_length and fill them with 0\n",
    "loan_info.emp_length.fillna('0',inplace=True)"
   ]
  },
  {
   "cell_type": "code",
   "execution_count": 22,
   "id": "6c17f716",
   "metadata": {},
   "outputs": [
    {
     "data": {
      "text/plain": [
       "0"
      ]
     },
     "execution_count": 22,
     "metadata": {},
     "output_type": "execute_result"
    }
   ],
   "source": [
    "# Check if there are still any missing values of emp_length\n",
    "loan_info.emp_length.isna().sum()"
   ]
  },
  {
   "cell_type": "code",
   "execution_count": 23,
   "id": "c2529295",
   "metadata": {},
   "outputs": [
    {
     "data": {
      "text/html": [
       "<div>\n",
       "<style scoped>\n",
       "    .dataframe tbody tr th:only-of-type {\n",
       "        vertical-align: middle;\n",
       "    }\n",
       "\n",
       "    .dataframe tbody tr th {\n",
       "        vertical-align: top;\n",
       "    }\n",
       "\n",
       "    .dataframe thead th {\n",
       "        text-align: right;\n",
       "    }\n",
       "</style>\n",
       "<table border=\"1\" class=\"dataframe\">\n",
       "  <thead>\n",
       "    <tr style=\"text-align: right;\">\n",
       "      <th></th>\n",
       "      <th>id</th>\n",
       "      <th>member_id</th>\n",
       "      <th>loan_amnt</th>\n",
       "      <th>funded_amnt</th>\n",
       "      <th>funded_amnt_inv</th>\n",
       "      <th>term</th>\n",
       "      <th>int_rate</th>\n",
       "      <th>installment</th>\n",
       "      <th>grade</th>\n",
       "      <th>sub_grade</th>\n",
       "      <th>...</th>\n",
       "      <th>total_rec_prncp</th>\n",
       "      <th>total_rec_int</th>\n",
       "      <th>total_rec_late_fee</th>\n",
       "      <th>recoveries</th>\n",
       "      <th>collection_recovery_fee</th>\n",
       "      <th>last_pymnt_d</th>\n",
       "      <th>last_pymnt_amnt</th>\n",
       "      <th>next_pymnt_d</th>\n",
       "      <th>last_credit_pull_d</th>\n",
       "      <th>chargeoff_within_12_mths</th>\n",
       "    </tr>\n",
       "  </thead>\n",
       "  <tbody>\n",
       "    <tr>\n",
       "      <th>0</th>\n",
       "      <td>1077501</td>\n",
       "      <td>1296599</td>\n",
       "      <td>5000</td>\n",
       "      <td>5000</td>\n",
       "      <td>4975.0</td>\n",
       "      <td>36 months</td>\n",
       "      <td>10.65%</td>\n",
       "      <td>162.87</td>\n",
       "      <td>B</td>\n",
       "      <td>B2</td>\n",
       "      <td>...</td>\n",
       "      <td>5000.00</td>\n",
       "      <td>863.16</td>\n",
       "      <td>0.00</td>\n",
       "      <td>0.00</td>\n",
       "      <td>0.00</td>\n",
       "      <td>Jan-15</td>\n",
       "      <td>171.62</td>\n",
       "      <td>NaN</td>\n",
       "      <td>May-16</td>\n",
       "      <td>0.0</td>\n",
       "    </tr>\n",
       "    <tr>\n",
       "      <th>1</th>\n",
       "      <td>1077430</td>\n",
       "      <td>1314167</td>\n",
       "      <td>2500</td>\n",
       "      <td>2500</td>\n",
       "      <td>2500.0</td>\n",
       "      <td>60 months</td>\n",
       "      <td>15.27%</td>\n",
       "      <td>59.83</td>\n",
       "      <td>C</td>\n",
       "      <td>C4</td>\n",
       "      <td>...</td>\n",
       "      <td>456.46</td>\n",
       "      <td>435.17</td>\n",
       "      <td>0.00</td>\n",
       "      <td>117.08</td>\n",
       "      <td>1.11</td>\n",
       "      <td>Apr-13</td>\n",
       "      <td>119.66</td>\n",
       "      <td>NaN</td>\n",
       "      <td>Sep-13</td>\n",
       "      <td>0.0</td>\n",
       "    </tr>\n",
       "    <tr>\n",
       "      <th>2</th>\n",
       "      <td>1077175</td>\n",
       "      <td>1313524</td>\n",
       "      <td>2400</td>\n",
       "      <td>2400</td>\n",
       "      <td>2400.0</td>\n",
       "      <td>36 months</td>\n",
       "      <td>15.96%</td>\n",
       "      <td>84.33</td>\n",
       "      <td>C</td>\n",
       "      <td>C5</td>\n",
       "      <td>...</td>\n",
       "      <td>2400.00</td>\n",
       "      <td>605.67</td>\n",
       "      <td>0.00</td>\n",
       "      <td>0.00</td>\n",
       "      <td>0.00</td>\n",
       "      <td>Jun-14</td>\n",
       "      <td>649.91</td>\n",
       "      <td>NaN</td>\n",
       "      <td>May-16</td>\n",
       "      <td>0.0</td>\n",
       "    </tr>\n",
       "    <tr>\n",
       "      <th>3</th>\n",
       "      <td>1076863</td>\n",
       "      <td>1277178</td>\n",
       "      <td>10000</td>\n",
       "      <td>10000</td>\n",
       "      <td>10000.0</td>\n",
       "      <td>36 months</td>\n",
       "      <td>13.49%</td>\n",
       "      <td>339.31</td>\n",
       "      <td>C</td>\n",
       "      <td>C1</td>\n",
       "      <td>...</td>\n",
       "      <td>10000.00</td>\n",
       "      <td>2214.92</td>\n",
       "      <td>16.97</td>\n",
       "      <td>0.00</td>\n",
       "      <td>0.00</td>\n",
       "      <td>Jan-15</td>\n",
       "      <td>357.48</td>\n",
       "      <td>NaN</td>\n",
       "      <td>Apr-16</td>\n",
       "      <td>0.0</td>\n",
       "    </tr>\n",
       "    <tr>\n",
       "      <th>4</th>\n",
       "      <td>1075358</td>\n",
       "      <td>1311748</td>\n",
       "      <td>3000</td>\n",
       "      <td>3000</td>\n",
       "      <td>3000.0</td>\n",
       "      <td>60 months</td>\n",
       "      <td>12.69%</td>\n",
       "      <td>67.79</td>\n",
       "      <td>B</td>\n",
       "      <td>B5</td>\n",
       "      <td>...</td>\n",
       "      <td>2475.94</td>\n",
       "      <td>1037.39</td>\n",
       "      <td>0.00</td>\n",
       "      <td>0.00</td>\n",
       "      <td>0.00</td>\n",
       "      <td>May-16</td>\n",
       "      <td>67.79</td>\n",
       "      <td>Jun-16</td>\n",
       "      <td>May-16</td>\n",
       "      <td>0.0</td>\n",
       "    </tr>\n",
       "  </tbody>\n",
       "</table>\n",
       "<p>5 rows × 48 columns</p>\n",
       "</div>"
      ],
      "text/plain": [
       "        id  member_id  loan_amnt  funded_amnt  funded_amnt_inv        term  \\\n",
       "0  1077501    1296599       5000         5000           4975.0   36 months   \n",
       "1  1077430    1314167       2500         2500           2500.0   60 months   \n",
       "2  1077175    1313524       2400         2400           2400.0   36 months   \n",
       "3  1076863    1277178      10000        10000          10000.0   36 months   \n",
       "4  1075358    1311748       3000         3000           3000.0   60 months   \n",
       "\n",
       "  int_rate  installment grade sub_grade  ... total_rec_prncp total_rec_int  \\\n",
       "0   10.65%       162.87     B        B2  ...         5000.00        863.16   \n",
       "1   15.27%        59.83     C        C4  ...          456.46        435.17   \n",
       "2   15.96%        84.33     C        C5  ...         2400.00        605.67   \n",
       "3   13.49%       339.31     C        C1  ...        10000.00       2214.92   \n",
       "4   12.69%        67.79     B        B5  ...         2475.94       1037.39   \n",
       "\n",
       "  total_rec_late_fee  recoveries collection_recovery_fee last_pymnt_d  \\\n",
       "0               0.00        0.00                    0.00       Jan-15   \n",
       "1               0.00      117.08                    1.11       Apr-13   \n",
       "2               0.00        0.00                    0.00       Jun-14   \n",
       "3              16.97        0.00                    0.00       Jan-15   \n",
       "4               0.00        0.00                    0.00       May-16   \n",
       "\n",
       "  last_pymnt_amnt next_pymnt_d last_credit_pull_d chargeoff_within_12_mths  \n",
       "0          171.62          NaN             May-16                      0.0  \n",
       "1          119.66          NaN             Sep-13                      0.0  \n",
       "2          649.91          NaN             May-16                      0.0  \n",
       "3          357.48          NaN             Apr-16                      0.0  \n",
       "4           67.79       Jun-16             May-16                      0.0  \n",
       "\n",
       "[5 rows x 48 columns]"
      ]
     },
     "execution_count": 23,
     "metadata": {},
     "output_type": "execute_result"
    }
   ],
   "source": [
    "# To do further analysis or plot a chart, we will need to remove the % in the data and have only numeric values\n",
    "loan_info['emp_length']=loan_info.emp_length.str.extract('(\\d+)')\n",
    "loan_info.head()"
   ]
  },
  {
   "cell_type": "code",
   "execution_count": 24,
   "id": "57db379d",
   "metadata": {},
   "outputs": [
    {
     "data": {
      "text/plain": [
       "10    8879\n",
       "1     7823\n",
       "2     4388\n",
       "3     4095\n",
       "4     3436\n",
       "5     3282\n",
       "6     2229\n",
       "7     1773\n",
       "8     1479\n",
       "9     1258\n",
       "0     1075\n",
       "Name: emp_length, dtype: int64"
      ]
     },
     "execution_count": 24,
     "metadata": {},
     "output_type": "execute_result"
    }
   ],
   "source": [
    "# Print of number of loans under respective emp experience\n",
    "loan_info.emp_length.value_counts()"
   ]
  },
  {
   "cell_type": "code",
   "execution_count": 25,
   "id": "09690735",
   "metadata": {},
   "outputs": [
    {
     "data": {
      "text/plain": [
       "0"
      ]
     },
     "execution_count": 25,
     "metadata": {},
     "output_type": "execute_result"
    }
   ],
   "source": [
    "# Check if int_rate has any null values\n",
    "loan_info.int_rate.isna().sum()"
   ]
  },
  {
   "cell_type": "code",
   "execution_count": 26,
   "id": "8923c27d",
   "metadata": {},
   "outputs": [
    {
     "data": {
      "text/plain": [
       "50"
      ]
     },
     "execution_count": 26,
     "metadata": {},
     "output_type": "execute_result"
    }
   ],
   "source": [
    "# Check if revol_util has any null values\n",
    "loan_info.revol_util.isna().sum()"
   ]
  },
  {
   "cell_type": "code",
   "execution_count": 27,
   "id": "007de0e7",
   "metadata": {},
   "outputs": [],
   "source": [
    "# Data cleaning\n",
    "# Lets remove % symbol from intrest rate column so that it can be used in calculations\n",
    "loan_info['int_rate'] = loan_info['int_rate'].str.rstrip('%')\n",
    "\n",
    "# Lets remove % symbol from revol_util column so that it can be used in calculations\n",
    "loan_info['revol_util'] = loan_info['revol_util'].str.rstrip('%')"
   ]
  },
  {
   "cell_type": "code",
   "execution_count": 28,
   "id": "f3033041",
   "metadata": {},
   "outputs": [],
   "source": [
    "# convert amount columns into numeric data to find some correlation among important ones.\n",
    "\n",
    "cols_to_numeric = ['loan_amnt','funded_amnt','int_rate','funded_amnt_inv','installment','annual_inc','dti','emp_length','total_pymnt', \"total_pymnt_inv\", \"total_rec_prncp\", \"total_rec_int\", \"total_rec_late_fee\", \"delinq_2yrs\", \"revol_util\"]\n",
    "loan_info[cols_to_numeric] = loan_info[cols_to_numeric].apply(pd.to_numeric)"
   ]
  },
  {
   "cell_type": "code",
   "execution_count": 29,
   "id": "5d0cdddd",
   "metadata": {},
   "outputs": [
    {
     "name": "stdout",
     "output_type": "stream",
     "text": [
      "<class 'pandas.core.frame.DataFrame'>\n",
      "RangeIndex: 39717 entries, 0 to 39716\n",
      "Data columns (total 48 columns):\n",
      " #   Column                    Non-Null Count  Dtype  \n",
      "---  ------                    --------------  -----  \n",
      " 0   id                        39717 non-null  int64  \n",
      " 1   member_id                 39717 non-null  int64  \n",
      " 2   loan_amnt                 39717 non-null  int64  \n",
      " 3   funded_amnt               39717 non-null  int64  \n",
      " 4   funded_amnt_inv           39717 non-null  float64\n",
      " 5   term                      39717 non-null  object \n",
      " 6   int_rate                  39717 non-null  float64\n",
      " 7   installment               39717 non-null  float64\n",
      " 8   grade                     39717 non-null  object \n",
      " 9   sub_grade                 39717 non-null  object \n",
      " 10  emp_title                 37258 non-null  object \n",
      " 11  emp_length                39717 non-null  int64  \n",
      " 12  home_ownership            39717 non-null  object \n",
      " 13  annual_inc                39717 non-null  float64\n",
      " 14  verification_status       39717 non-null  object \n",
      " 15  issue_d                   39717 non-null  object \n",
      " 16  loan_status               39717 non-null  object \n",
      " 17  url                       39717 non-null  object \n",
      " 18  desc                      26777 non-null  object \n",
      " 19  purpose                   39717 non-null  object \n",
      " 20  title                     39706 non-null  object \n",
      " 21  zip_code                  39717 non-null  object \n",
      " 22  addr_state                39717 non-null  object \n",
      " 23  dti                       39717 non-null  float64\n",
      " 24  delinq_2yrs               39717 non-null  int64  \n",
      " 25  earliest_cr_line          39717 non-null  object \n",
      " 26  inq_last_6mths            39717 non-null  int64  \n",
      " 27  mths_since_last_delinq    14035 non-null  float64\n",
      " 28  mths_since_last_record    2786 non-null   float64\n",
      " 29  open_acc                  39717 non-null  int64  \n",
      " 30  pub_rec                   39717 non-null  int64  \n",
      " 31  revol_bal                 39717 non-null  int64  \n",
      " 32  revol_util                39667 non-null  float64\n",
      " 33  total_acc                 39717 non-null  int64  \n",
      " 34  out_prncp                 39717 non-null  float64\n",
      " 35  out_prncp_inv             39717 non-null  float64\n",
      " 36  total_pymnt               39717 non-null  float64\n",
      " 37  total_pymnt_inv           39717 non-null  float64\n",
      " 38  total_rec_prncp           39717 non-null  float64\n",
      " 39  total_rec_int             39717 non-null  float64\n",
      " 40  total_rec_late_fee        39717 non-null  float64\n",
      " 41  recoveries                39717 non-null  float64\n",
      " 42  collection_recovery_fee   39717 non-null  float64\n",
      " 43  last_pymnt_d              39646 non-null  object \n",
      " 44  last_pymnt_amnt           39717 non-null  float64\n",
      " 45  next_pymnt_d              1140 non-null   object \n",
      " 46  last_credit_pull_d        39715 non-null  object \n",
      " 47  chargeoff_within_12_mths  39661 non-null  float64\n",
      "dtypes: float64(19), int64(11), object(18)\n",
      "memory usage: 14.5+ MB\n"
     ]
    }
   ],
   "source": [
    "# Check the data type of each column after conversion\n",
    "loan_info.info()"
   ]
  },
  {
   "cell_type": "markdown",
   "id": "15b2b237",
   "metadata": {},
   "source": [
    "Analyze annual_inc data"
   ]
  },
  {
   "cell_type": "code",
   "execution_count": 30,
   "id": "10e28d6d",
   "metadata": {},
   "outputs": [
    {
     "data": {
      "text/plain": [
       "count    3.971700e+04\n",
       "mean     6.896893e+04\n",
       "std      6.379377e+04\n",
       "min      4.000000e+03\n",
       "25%      4.040400e+04\n",
       "50%      5.900000e+04\n",
       "75%      8.230000e+04\n",
       "max      6.000000e+06\n",
       "Name: annual_inc, dtype: float64"
      ]
     },
     "execution_count": 30,
     "metadata": {},
     "output_type": "execute_result"
    }
   ],
   "source": [
    "loan_info['annual_inc'].describe()"
   ]
  },
  {
   "cell_type": "code",
   "execution_count": 31,
   "id": "006fadfa",
   "metadata": {},
   "outputs": [
    {
     "data": {
      "text/plain": [
       "<Axes: >"
      ]
     },
     "execution_count": 31,
     "metadata": {},
     "output_type": "execute_result"
    },
    {
     "data": {
      "image/png": "[encoded data removed]",
      "text/plain": [
       "<Figure size 640x480 with 1 Axes>"
      ]
     },
     "metadata": {},
     "output_type": "display_data"
    }
   ],
   "source": [
    "# Plot a chart to see the outliers\n",
    "sns.boxplot(loan_info.annual_inc)"
   ]
  },
  {
   "cell_type": "code",
   "execution_count": 32,
   "id": "bd6befa8",
   "metadata": {},
   "outputs": [
    {
     "data": {
      "text/plain": [
       "0.75      82300.00\n",
       "0.95     142000.00\n",
       "0.99     234999.36\n",
       "1.00    6000000.00\n",
       "Name: annual_inc, dtype: float64"
      ]
     },
     "execution_count": 32,
     "metadata": {},
     "output_type": "execute_result"
    }
   ],
   "source": [
    "# Check the quantile of the annual_inc\n",
    "loan_info.annual_inc.quantile([0.75,0.95,0.99,1.0])"
   ]
  },
  {
   "cell_type": "code",
   "execution_count": 33,
   "id": "93ed6b9f",
   "metadata": {},
   "outputs": [],
   "source": [
    "# Remove Outliers with quantile .95 from Annual Income\n",
    "loan_info = loan_info[loan_info[\"annual_inc\"] < loan_info[\"annual_inc\"].quantile(0.95)]"
   ]
  },
  {
   "cell_type": "code",
   "execution_count": 34,
   "id": "a2b747f1",
   "metadata": {},
   "outputs": [
    {
     "data": {
      "text/plain": [
       "<Axes: >"
      ]
     },
     "execution_count": 34,
     "metadata": {},
     "output_type": "execute_result"
    },
    {
     "data": {
      "image/png": "[encoded data removed]",
      "text/plain": [
       "<Figure size 640x480 with 1 Axes>"
      ]
     },
     "metadata": {},
     "output_type": "display_data"
    }
   ],
   "source": [
    "# Plot a chart to see how it looks after removing outliers\n",
    "sns.boxplot(loan_info.annual_inc)"
   ]
  },
  {
   "cell_type": "code",
   "execution_count": 35,
   "id": "79d12ab1",
   "metadata": {},
   "outputs": [
    {
     "data": {
      "text/plain": [
       "count    37730.000000\n",
       "mean     11711.691312\n",
       "std       8631.594046\n",
       "min          0.000000\n",
       "25%       5478.801776\n",
       "50%       9571.946635\n",
       "75%      15897.655000\n",
       "max      58563.679930\n",
       "Name: total_pymnt, dtype: float64"
      ]
     },
     "execution_count": 35,
     "metadata": {},
     "output_type": "execute_result"
    }
   ],
   "source": [
    "loan_info.total_pymnt.describe()"
   ]
  },
  {
   "cell_type": "code",
   "execution_count": 36,
   "id": "50035e84",
   "metadata": {},
   "outputs": [
    {
     "data": {
      "text/plain": [
       "<Axes: >"
      ]
     },
     "execution_count": 36,
     "metadata": {},
     "output_type": "execute_result"
    },
    {
     "data": {
      "image/png": "[encoded data removed]",
      "text/plain": [
       "<Figure size 640x480 with 1 Axes>"
      ]
     },
     "metadata": {},
     "output_type": "display_data"
    }
   ],
   "source": [
    "# Plot a chart to see the outliers of total_pymnt\n",
    "sns.boxplot(loan_info.total_pymnt)\n",
    "\n",
    "# Based on the plot, we see the distribution of the values are continous hence we will not require to remove\n",
    "# any outliers for total_pymnt"
   ]
  },
  {
   "cell_type": "code",
   "execution_count": 37,
   "id": "4b30fc6a",
   "metadata": {},
   "outputs": [
    {
     "data": {
      "text/plain": [
       "count    37730.000000\n",
       "mean     10845.205407\n",
       "std       7153.931580\n",
       "min        500.000000\n",
       "25%       5075.000000\n",
       "50%       9600.000000\n",
       "75%      15000.000000\n",
       "max      35000.000000\n",
       "Name: loan_amnt, dtype: float64"
      ]
     },
     "execution_count": 37,
     "metadata": {},
     "output_type": "execute_result"
    }
   ],
   "source": [
    "loan_info.loan_amnt.describe()"
   ]
  },
  {
   "cell_type": "code",
   "execution_count": 38,
   "id": "59bc5f75",
   "metadata": {},
   "outputs": [
    {
     "data": {
      "text/plain": [
       "<Axes: >"
      ]
     },
     "execution_count": 38,
     "metadata": {},
     "output_type": "execute_result"
    },
    {
     "data": {
      "image/png": "[encoded data removed]",
      "text/plain": [
       "<Figure size 640x480 with 1 Axes>"
      ]
     },
     "metadata": {},
     "output_type": "display_data"
    }
   ],
   "source": [
    "# Plot a chart to see the outliers of loan_amnt\n",
    "sns.boxplot(loan_info.loan_amnt)\n",
    "\n",
    "# Based on the plot, we see the distribution of the values are continous hence we will not require to remove \n",
    "# any outliers for loan_amnt"
   ]
  },
  {
   "cell_type": "markdown",
   "id": "2108450d",
   "metadata": {},
   "source": [
    "Visualizing Unordered Categorical Data"
   ]
  },
  {
   "cell_type": "code",
   "execution_count": 39,
   "id": "1b4de6a3",
   "metadata": {},
   "outputs": [
    {
     "data": {
      "text/plain": [
       "count          37730\n",
       "unique             3\n",
       "top       Fully Paid\n",
       "freq           31256\n",
       "Name: loan_status, dtype: object"
      ]
     },
     "execution_count": 39,
     "metadata": {},
     "output_type": "execute_result"
    }
   ],
   "source": [
    "loan_info.loan_status.describe()"
   ]
  },
  {
   "cell_type": "code",
   "execution_count": 40,
   "id": "869fa738",
   "metadata": {},
   "outputs": [
    {
     "data": {
      "text/plain": [
       "<Axes: xlabel='loan_status', ylabel='count'>"
      ]
     },
     "execution_count": 40,
     "metadata": {},
     "output_type": "execute_result"
    },
    {
     "data": {
      "image/png": "[encoded data removed]",
      "text/plain": [
       "<Figure size 640x480 with 1 Axes>"
      ]
     },
     "metadata": {},
     "output_type": "display_data"
    }
   ],
   "source": [
    "# Plot a chart to see the outliers of loan_status\n",
    "sns.countplot(x = 'loan_status', data = loan_info)"
   ]
  },
  {
   "cell_type": "code",
   "execution_count": 41,
   "id": "0383abc1",
   "metadata": {},
   "outputs": [
    {
     "data": {
      "text/plain": [
       "count     37730\n",
       "unique        7\n",
       "top           B\n",
       "freq      11430\n",
       "Name: grade, dtype: object"
      ]
     },
     "execution_count": 41,
     "metadata": {},
     "output_type": "execute_result"
    }
   ],
   "source": [
    "loan_info.grade.describe()"
   ]
  },
  {
   "cell_type": "code",
   "execution_count": 42,
   "id": "5f55a4cd",
   "metadata": {},
   "outputs": [
    {
     "data": {
      "text/plain": [
       "<Axes: xlabel='grade', ylabel='count'>"
      ]
     },
     "execution_count": 42,
     "metadata": {},
     "output_type": "execute_result"
    },
    {
     "data": {
      "image/png": "[encoded data removed]",
      "text/plain": [
       "<Figure size 640x480 with 1 Axes>"
      ]
     },
     "metadata": {},
     "output_type": "display_data"
    }
   ],
   "source": [
    "# Plot a chart to see the outliers of grade\n",
    "sns.countplot(x = 'grade', data = loan_info)"
   ]
  },
  {
   "cell_type": "code",
   "execution_count": 43,
   "id": "af52439a",
   "metadata": {},
   "outputs": [
    {
     "data": {
      "text/plain": [
       "count     37730\n",
       "unique       35\n",
       "top          A4\n",
       "freq       2765\n",
       "Name: sub_grade, dtype: object"
      ]
     },
     "execution_count": 43,
     "metadata": {},
     "output_type": "execute_result"
    }
   ],
   "source": [
    "loan_info.sub_grade.describe()"
   ]
  },
  {
   "cell_type": "code",
   "execution_count": 53,
   "id": "f0a8d8e8",
   "metadata": {},
   "outputs": [
    {
     "data": {
      "text/plain": [
       "<Axes: xlabel='sub_grade', ylabel='count'>"
      ]
     },
     "execution_count": 53,
     "metadata": {},
     "output_type": "execute_result"
    },
    {
     "data": {
      "image/png": "[encoded data removed]",
      "text/plain": [
       "<Figure size 1200x800 with 1 Axes>"
      ]
     },
     "metadata": {},
     "output_type": "display_data"
    }
   ],
   "source": [
    "# Plot a chart to see the outliers of sub_grade\n",
    "fig, ax = plt.subplots(figsize=(12,8))\n",
    "sns.set_palette('colorblind')\n",
    "sns.countplot(x = 'sub_grade', data = loan_info, linewidth=50)"
   ]
  },
  {
   "cell_type": "code",
   "execution_count": 45,
   "id": "62d944d6",
   "metadata": {},
   "outputs": [
    {
     "data": {
      "text/plain": [
       "count                  37730\n",
       "unique                    14\n",
       "top       debt_consolidation\n",
       "freq                   17859\n",
       "Name: purpose, dtype: object"
      ]
     },
     "execution_count": 45,
     "metadata": {},
     "output_type": "execute_result"
    }
   ],
   "source": [
    "loan_info.purpose.describe()"
   ]
  },
  {
   "cell_type": "code",
   "execution_count": 56,
   "id": "17c65902",
   "metadata": {},
   "outputs": [
    {
     "data": {
      "text/plain": [
       "<Axes: xlabel='count', ylabel='purpose'>"
      ]
     },
     "execution_count": 56,
     "metadata": {},
     "output_type": "execute_result"
    },
    {
     "data": {
      "image/png": "[encoded data removed]",
      "text/plain": [
       "<Figure size 640x480 with 1 Axes>"
      ]
     },
     "metadata": {},
     "output_type": "display_data"
    }
   ],
   "source": [
    "# Plot a chart to see the outliers of purpose\n",
    "sns.countplot(y = 'purpose', data = loan_info)"
   ]
  },
  {
   "cell_type": "code",
   "execution_count": 54,
   "id": "5cd96c14",
   "metadata": {},
   "outputs": [
    {
     "data": {
      "text/plain": [
       "<Axes: xlabel='grade', ylabel='count'>"
      ]
     },
     "execution_count": 54,
     "metadata": {},
     "output_type": "execute_result"
    },
    {
     "data": {
      "image/png": "[encoded data removed]",
      "text/plain": [
       "<Figure size 1200x1200 with 1 Axes>"
      ]
     },
     "metadata": {},
     "output_type": "display_data"
    }
   ],
   "source": [
    "fig, ax = plt.subplots(figsize=(12,12))\n",
    "sns.set_palette('colorblind')\n",
    "sns.countplot(x = 'grade', order = ['A', 'B', 'C', 'D', 'E', 'F', 'G'] , hue = 'sub_grade',data = loan_info[loan_info.loan_status == 'Charged Off'])"
   ]
  },
  {
   "cell_type": "code",
   "execution_count": null,
   "id": "9fe6f25a",
   "metadata": {},
   "outputs": [],
   "source": [
    "# Checking unique values for home_ownership\n",
    "loan_info['home_ownership'].unique()"
   ]
  },
  {
   "cell_type": "code",
   "execution_count": null,
   "id": "be119045",
   "metadata": {},
   "outputs": [],
   "source": [
    "# Check home ownership which is of Charged Off status\n",
    "fig, ax = plt.subplots(figsize = (6,4))\n",
    "ax.set(yscale = 'log')\n",
    "sns.countplot(x='home_ownership', data=loan_info[loan_info['loan_status']=='Charged Off'])"
   ]
  },
  {
   "cell_type": "code",
   "execution_count": 55,
   "id": "4d596ff8",
   "metadata": {
    "scrolled": true
   },
   "outputs": [
    {
     "data": {
      "text/plain": [
       "<Axes: xlabel='count', ylabel='purpose'>"
      ]
     },
     "execution_count": 55,
     "metadata": {},
     "output_type": "execute_result"
    },
    {
     "data": {
      "image/png": "[encoded data removed]",
      "text/plain": [
       "<Figure size 900x1200 with 1 Axes>"
      ]
     },
     "metadata": {},
     "output_type": "display_data"
    }
   ],
   "source": [
    "# Check purpose which is of Charged Off status\n",
    "fig, ax = plt.subplots(figsize=(9,12))\n",
    "sns.set_palette('colorblind')\n",
    "sns.countplot(y = 'purpose', data = loan_info)"
   ]
  },
  {
   "cell_type": "code",
   "execution_count": 57,
   "id": "14ac83df",
   "metadata": {},
   "outputs": [],
   "source": [
    "# Creating bins for some numerical variable to make them categorical which will help in doing bivariate analysis\n",
    "# Creating bins for int_rate, open_acc, revol_util, total_acc, annual_inc and dti\n",
    "loan_info['int_rate_groups'] = pd.cut(loan_info['int_rate'], bins=5,precision =0,labels=['5%-9%','9%-13%','13%-17%','17%-21%','21%-24%'])\n",
    "loan_info['open_acc_groups'] = pd.cut(loan_info['open_acc'],bins = 5,precision =0,labels=['2-10','10-19','19-27','27-36','36-44'])\n",
    "loan_info['revol_util_groups'] = pd.cut(loan_info['revol_util'], bins=5,precision =0,labels=['0-20','20-40','40-60','60-80','80-100'])\n",
    "loan_info['total_acc_groups'] = pd.cut(loan_info['total_acc'], bins=5,precision =0,labels=['2-20','20-37','37-55','55-74','74-90'])\n",
    "loan_info['annual_inc_groups'] = pd.cut(loan_info['annual_inc'], bins=5,precision =0,labels =['3k-31k','31k-58k','58k-85k','85k-112k','112k-140k'])\n",
    "loan_info['dti_groups'] = pd.cut(loan_info['dti'], bins=5,precision =0, labels=['0-5', '05-10', '10-15', '15-20', '25+'])\n",
    "loan_info['loan_amnt_groups'] = pd.cut(loan_info['loan_amnt'], bins=5,precision =0, labels=['0-7000', '7000-14000', '14000-21000', '21000-28000', '28000 +'])"
   ]
  },
  {
   "cell_type": "code",
   "execution_count": null,
   "id": "e4bc1ef0",
   "metadata": {},
   "outputs": [],
   "source": []
  }
 ],
 "metadata": {
  "kernelspec": {
   "display_name": "Python 3 (ipykernel)",
   "language": "python",
   "name": "python3"
  },
  "language_info": {
   "codemirror_mode": {
    "name": "ipython",
    "version": 3
   },
   "file_extension": ".py",
   "mimetype": "text/x-python",
   "name": "python",
   "nbconvert_exporter": "python",
   "pygments_lexer": "ipython3",
   "version": "3.11.3"
  }
 },
 "nbformat": 4,
 "nbformat_minor": 5
}
